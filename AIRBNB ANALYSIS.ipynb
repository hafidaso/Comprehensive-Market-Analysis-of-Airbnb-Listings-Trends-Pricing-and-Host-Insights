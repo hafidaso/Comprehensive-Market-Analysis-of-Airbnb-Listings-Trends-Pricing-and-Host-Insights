{
 "cells": [
  {
   "cell_type": "markdown",
   "metadata": {},
   "source": [
    "# Load Data"
   ]
  },
  {
   "cell_type": "code",
   "execution_count": 78,
   "metadata": {},
   "outputs": [
    {
     "data": {
      "text/html": [
       "<div>\n",
       "<style scoped>\n",
       "    .dataframe tbody tr th:only-of-type {\n",
       "        vertical-align: middle;\n",
       "    }\n",
       "\n",
       "    .dataframe tbody tr th {\n",
       "        vertical-align: top;\n",
       "    }\n",
       "\n",
       "    .dataframe thead th {\n",
       "        text-align: right;\n",
       "    }\n",
       "</style>\n",
       "<table border=\"1\" class=\"dataframe\">\n",
       "  <thead>\n",
       "    <tr style=\"text-align: right;\">\n",
       "      <th></th>\n",
       "      <th>unified_id</th>\n",
       "      <th>zipcode</th>\n",
       "      <th>city</th>\n",
       "      <th>host_type</th>\n",
       "      <th>bedrooms</th>\n",
       "      <th>bathrooms</th>\n",
       "      <th>guests</th>\n",
       "      <th>revenue</th>\n",
       "      <th>openness</th>\n",
       "      <th>occupancy</th>\n",
       "      <th>nightly rate</th>\n",
       "      <th>lead time</th>\n",
       "      <th>length stay</th>\n",
       "    </tr>\n",
       "    <tr>\n",
       "      <th>month</th>\n",
       "      <th></th>\n",
       "      <th></th>\n",
       "      <th></th>\n",
       "      <th></th>\n",
       "      <th></th>\n",
       "      <th></th>\n",
       "      <th></th>\n",
       "      <th></th>\n",
       "      <th></th>\n",
       "      <th></th>\n",
       "      <th></th>\n",
       "      <th></th>\n",
       "      <th></th>\n",
       "    </tr>\n",
       "  </thead>\n",
       "  <tbody>\n",
       "    <tr>\n",
       "      <th>2019-01-01</th>\n",
       "      <td>AIR10000347</td>\n",
       "      <td>92315</td>\n",
       "      <td>Big Bear Lake</td>\n",
       "      <td>2-5 Units</td>\n",
       "      <td>3</td>\n",
       "      <td>2</td>\n",
       "      <td>10</td>\n",
       "      <td>13948.759740</td>\n",
       "      <td>31</td>\n",
       "      <td>1.000000</td>\n",
       "      <td>449.959992</td>\n",
       "      <td>8.0</td>\n",
       "      <td>65.0</td>\n",
       "    </tr>\n",
       "    <tr>\n",
       "      <th>2019-10-01</th>\n",
       "      <td>AIR10000347</td>\n",
       "      <td>92315</td>\n",
       "      <td>Big Bear Lake</td>\n",
       "      <td>2-5 Units</td>\n",
       "      <td>3</td>\n",
       "      <td>2</td>\n",
       "      <td>10</td>\n",
       "      <td>449.959992</td>\n",
       "      <td>31</td>\n",
       "      <td>0.032258</td>\n",
       "      <td>449.959992</td>\n",
       "      <td>8.0</td>\n",
       "      <td>1.0</td>\n",
       "    </tr>\n",
       "    <tr>\n",
       "      <th>2019-11-01</th>\n",
       "      <td>AIR10000347</td>\n",
       "      <td>92315</td>\n",
       "      <td>Big Bear Lake</td>\n",
       "      <td>2-5 Units</td>\n",
       "      <td>3</td>\n",
       "      <td>2</td>\n",
       "      <td>10</td>\n",
       "      <td>0.000000</td>\n",
       "      <td>30</td>\n",
       "      <td>0.000000</td>\n",
       "      <td>NaN</td>\n",
       "      <td>NaN</td>\n",
       "      <td>NaN</td>\n",
       "    </tr>\n",
       "    <tr>\n",
       "      <th>2019-12-01</th>\n",
       "      <td>AIR10000347</td>\n",
       "      <td>92315</td>\n",
       "      <td>Big Bear Lake</td>\n",
       "      <td>2-5 Units</td>\n",
       "      <td>3</td>\n",
       "      <td>2</td>\n",
       "      <td>10</td>\n",
       "      <td>4949.679932</td>\n",
       "      <td>31</td>\n",
       "      <td>0.354839</td>\n",
       "      <td>449.970903</td>\n",
       "      <td>41.0</td>\n",
       "      <td>2.4</td>\n",
       "    </tr>\n",
       "    <tr>\n",
       "      <th>2019-02-01</th>\n",
       "      <td>AIR10000347</td>\n",
       "      <td>92315</td>\n",
       "      <td>Big Bear Lake</td>\n",
       "      <td>2-5 Units</td>\n",
       "      <td>3</td>\n",
       "      <td>2</td>\n",
       "      <td>10</td>\n",
       "      <td>0.000000</td>\n",
       "      <td>28</td>\n",
       "      <td>0.000000</td>\n",
       "      <td>NaN</td>\n",
       "      <td>NaN</td>\n",
       "      <td>NaN</td>\n",
       "    </tr>\n",
       "  </tbody>\n",
       "</table>\n",
       "</div>"
      ],
      "text/plain": [
       "             unified_id  zipcode           city  host_type  bedrooms  \\\n",
       "month                                                                  \n",
       "2019-01-01  AIR10000347    92315  Big Bear Lake  2-5 Units         3   \n",
       "2019-10-01  AIR10000347    92315  Big Bear Lake  2-5 Units         3   \n",
       "2019-11-01  AIR10000347    92315  Big Bear Lake  2-5 Units         3   \n",
       "2019-12-01  AIR10000347    92315  Big Bear Lake  2-5 Units         3   \n",
       "2019-02-01  AIR10000347    92315  Big Bear Lake  2-5 Units         3   \n",
       "\n",
       "           bathrooms guests       revenue  openness  occupancy  nightly rate  \\\n",
       "month                                                                          \n",
       "2019-01-01         2     10  13948.759740        31   1.000000    449.959992   \n",
       "2019-10-01         2     10    449.959992        31   0.032258    449.959992   \n",
       "2019-11-01         2     10      0.000000        30   0.000000           NaN   \n",
       "2019-12-01         2     10   4949.679932        31   0.354839    449.970903   \n",
       "2019-02-01         2     10      0.000000        28   0.000000           NaN   \n",
       "\n",
       "            lead time  length stay  \n",
       "month                               \n",
       "2019-01-01        8.0         65.0  \n",
       "2019-10-01        8.0          1.0  \n",
       "2019-11-01        NaN          NaN  \n",
       "2019-12-01       41.0          2.4  \n",
       "2019-02-01        NaN          NaN  "
      ]
     },
     "execution_count": 78,
     "metadata": {},
     "output_type": "execute_result"
    }
   ],
   "source": [
    "import pandas as pd\n",
    "\n",
    "market_analysis_2019 = pd.read_csv('/Users/ymadigital/Downloads/Airbnb Market Analysis & Real Estate Sales Data/data/market_analysis_2019.csv', delimiter=';', decimal=',', skipinitialspace=True)\n",
    "geolocation_data = pd.read_csv('/Users/ymadigital/Downloads/Airbnb Market Analysis & Real Estate Sales Data/data/geolocation.csv', delimiter=';', decimal=',', skipinitialspace=True)# Displaying the first few rows of the adjusted dataset\n",
    "market_analysis_df.head()"
   ]
  },
  {
   "cell_type": "code",
   "execution_count": 79,
   "metadata": {},
   "outputs": [
    {
     "data": {
      "text/html": [
       "<div>\n",
       "<style scoped>\n",
       "    .dataframe tbody tr th:only-of-type {\n",
       "        vertical-align: middle;\n",
       "    }\n",
       "\n",
       "    .dataframe tbody tr th {\n",
       "        vertical-align: top;\n",
       "    }\n",
       "\n",
       "    .dataframe thead th {\n",
       "        text-align: right;\n",
       "    }\n",
       "</style>\n",
       "<table border=\"1\" class=\"dataframe\">\n",
       "  <thead>\n",
       "    <tr style=\"text-align: right;\">\n",
       "      <th></th>\n",
       "      <th>unified_id</th>\n",
       "      <th>month</th>\n",
       "      <th>street_name</th>\n",
       "      <th>latitude</th>\n",
       "      <th>longitude</th>\n",
       "    </tr>\n",
       "  </thead>\n",
       "  <tbody>\n",
       "    <tr>\n",
       "      <th>0</th>\n",
       "      <td>AIR10052559</td>\n",
       "      <td>2022-12</td>\n",
       "      <td>Heavenly Valley Road</td>\n",
       "      <td>34.23948</td>\n",
       "      <td>-116.87991</td>\n",
       "    </tr>\n",
       "    <tr>\n",
       "      <th>1</th>\n",
       "      <td>AIR10178668</td>\n",
       "      <td>2022-12</td>\n",
       "      <td>Round Drive</td>\n",
       "      <td>34.25095</td>\n",
       "      <td>-116.94139</td>\n",
       "    </tr>\n",
       "    <tr>\n",
       "      <th>2</th>\n",
       "      <td>AIR10211700</td>\n",
       "      <td>2022-12</td>\n",
       "      <td>NaN</td>\n",
       "      <td>34.24516</td>\n",
       "      <td>-116.87618</td>\n",
       "    </tr>\n",
       "    <tr>\n",
       "      <th>3</th>\n",
       "      <td>AIR10344705</td>\n",
       "      <td>2022-12</td>\n",
       "      <td>NaN</td>\n",
       "      <td>34.26750</td>\n",
       "      <td>-116.86089</td>\n",
       "    </tr>\n",
       "    <tr>\n",
       "      <th>4</th>\n",
       "      <td>AIR10424683</td>\n",
       "      <td>2022-12</td>\n",
       "      <td>Starvation Flats Road</td>\n",
       "      <td>34.25341</td>\n",
       "      <td>-116.88025</td>\n",
       "    </tr>\n",
       "  </tbody>\n",
       "</table>\n",
       "</div>"
      ],
      "text/plain": [
       "    unified_id    month            street_name  latitude  longitude\n",
       "0  AIR10052559  2022-12   Heavenly Valley Road  34.23948 -116.87991\n",
       "1  AIR10178668  2022-12            Round Drive  34.25095 -116.94139\n",
       "2  AIR10211700  2022-12                    NaN  34.24516 -116.87618\n",
       "3  AIR10344705  2022-12                    NaN  34.26750 -116.86089\n",
       "4  AIR10424683  2022-12  Starvation Flats Road  34.25341 -116.88025"
      ]
     },
     "execution_count": 79,
     "metadata": {},
     "output_type": "execute_result"
    }
   ],
   "source": [
    "geolocation_data.head()"
   ]
  },
  {
   "cell_type": "markdown",
   "metadata": {},
   "source": [
    "# Descriptive Analysis"
   ]
  },
  {
   "cell_type": "code",
   "execution_count": 50,
   "metadata": {},
   "outputs": [
    {
     "data": {
      "text/html": [
       "<div>\n",
       "<style scoped>\n",
       "    .dataframe tbody tr th:only-of-type {\n",
       "        vertical-align: middle;\n",
       "    }\n",
       "\n",
       "    .dataframe tbody tr th {\n",
       "        vertical-align: top;\n",
       "    }\n",
       "\n",
       "    .dataframe thead th {\n",
       "        text-align: right;\n",
       "    }\n",
       "</style>\n",
       "<table border=\"1\" class=\"dataframe\">\n",
       "  <thead>\n",
       "    <tr style=\"text-align: right;\">\n",
       "      <th></th>\n",
       "      <th>zipcode</th>\n",
       "      <th>bedrooms</th>\n",
       "      <th>revenue</th>\n",
       "      <th>openness</th>\n",
       "      <th>occupancy</th>\n",
       "      <th>nightly rate</th>\n",
       "      <th>lead time</th>\n",
       "      <th>length stay</th>\n",
       "    </tr>\n",
       "  </thead>\n",
       "  <tbody>\n",
       "    <tr>\n",
       "      <th>count</th>\n",
       "      <td>29928.000000</td>\n",
       "      <td>29928.000000</td>\n",
       "      <td>29912.000000</td>\n",
       "      <td>29928.000000</td>\n",
       "      <td>29928.000000</td>\n",
       "      <td>23486.000000</td>\n",
       "      <td>21897.000000</td>\n",
       "      <td>21897.000000</td>\n",
       "    </tr>\n",
       "    <tr>\n",
       "      <th>mean</th>\n",
       "      <td>92307.870155</td>\n",
       "      <td>3.383420</td>\n",
       "      <td>3801.236123</td>\n",
       "      <td>28.870422</td>\n",
       "      <td>0.400428</td>\n",
       "      <td>327.047380</td>\n",
       "      <td>30.968204</td>\n",
       "      <td>4.749503</td>\n",
       "    </tr>\n",
       "    <tr>\n",
       "      <th>std</th>\n",
       "      <td>18.431247</td>\n",
       "      <td>0.610313</td>\n",
       "      <td>5201.935753</td>\n",
       "      <td>5.457030</td>\n",
       "      <td>0.333166</td>\n",
       "      <td>262.117911</td>\n",
       "      <td>40.174985</td>\n",
       "      <td>18.992477</td>\n",
       "    </tr>\n",
       "    <tr>\n",
       "      <th>min</th>\n",
       "      <td>92252.000000</td>\n",
       "      <td>3.000000</td>\n",
       "      <td>-10509.990050</td>\n",
       "      <td>1.000000</td>\n",
       "      <td>0.000000</td>\n",
       "      <td>-350.333002</td>\n",
       "      <td>1.000000</td>\n",
       "      <td>1.000000</td>\n",
       "    </tr>\n",
       "    <tr>\n",
       "      <th>25%</th>\n",
       "      <td>92314.000000</td>\n",
       "      <td>3.000000</td>\n",
       "      <td>379.709992</td>\n",
       "      <td>30.000000</td>\n",
       "      <td>0.066667</td>\n",
       "      <td>173.970001</td>\n",
       "      <td>6.875000</td>\n",
       "      <td>1.555556</td>\n",
       "    </tr>\n",
       "    <tr>\n",
       "      <th>50%</th>\n",
       "      <td>92315.000000</td>\n",
       "      <td>3.000000</td>\n",
       "      <td>2447.179989</td>\n",
       "      <td>31.000000</td>\n",
       "      <td>0.366667</td>\n",
       "      <td>249.979996</td>\n",
       "      <td>18.545455</td>\n",
       "      <td>2.000000</td>\n",
       "    </tr>\n",
       "    <tr>\n",
       "      <th>75%</th>\n",
       "      <td>92315.000000</td>\n",
       "      <td>4.000000</td>\n",
       "      <td>5310.105034</td>\n",
       "      <td>31.000000</td>\n",
       "      <td>0.645161</td>\n",
       "      <td>399.940002</td>\n",
       "      <td>39.400000</td>\n",
       "      <td>2.714286</td>\n",
       "    </tr>\n",
       "    <tr>\n",
       "      <th>max</th>\n",
       "      <td>92315.000000</td>\n",
       "      <td>5.000000</td>\n",
       "      <td>155187.216800</td>\n",
       "      <td>31.000000</td>\n",
       "      <td>1.000000</td>\n",
       "      <td>6965.666667</td>\n",
       "      <td>359.000000</td>\n",
       "      <td>346.000000</td>\n",
       "    </tr>\n",
       "  </tbody>\n",
       "</table>\n",
       "</div>"
      ],
      "text/plain": [
       "            zipcode      bedrooms        revenue      openness     occupancy  \\\n",
       "count  29928.000000  29928.000000   29912.000000  29928.000000  29928.000000   \n",
       "mean   92307.870155      3.383420    3801.236123     28.870422      0.400428   \n",
       "std       18.431247      0.610313    5201.935753      5.457030      0.333166   \n",
       "min    92252.000000      3.000000  -10509.990050      1.000000      0.000000   \n",
       "25%    92314.000000      3.000000     379.709992     30.000000      0.066667   \n",
       "50%    92315.000000      3.000000    2447.179989     31.000000      0.366667   \n",
       "75%    92315.000000      4.000000    5310.105034     31.000000      0.645161   \n",
       "max    92315.000000      5.000000  155187.216800     31.000000      1.000000   \n",
       "\n",
       "       nightly rate     lead time   length stay  \n",
       "count  23486.000000  21897.000000  21897.000000  \n",
       "mean     327.047380     30.968204      4.749503  \n",
       "std      262.117911     40.174985     18.992477  \n",
       "min     -350.333002      1.000000      1.000000  \n",
       "25%      173.970001      6.875000      1.555556  \n",
       "50%      249.979996     18.545455      2.000000  \n",
       "75%      399.940002     39.400000      2.714286  \n",
       "max     6965.666667    359.000000    346.000000  "
      ]
     },
     "execution_count": 50,
     "metadata": {},
     "output_type": "execute_result"
    }
   ],
   "source": [
    "# Calculating descriptive statistics for the numerical columns\n",
    "numerical_descriptive_stats = market_analysis_2019.describe()\n",
    "\n",
    "# Calculating frequency counts for categorical columns\n",
    "categorical_columns = ['unified_id', 'month', 'zipcode', 'city', 'host_type']\n",
    "categorical_descriptive_stats = market_analysis_2019[categorical_columns].describe(include=[object])\n",
    "\n",
    "numerical_descriptive_stats\n"
   ]
  },
  {
   "cell_type": "code",
   "execution_count": 51,
   "metadata": {},
   "outputs": [
    {
     "data": {
      "text/html": [
       "<div>\n",
       "<style scoped>\n",
       "    .dataframe tbody tr th:only-of-type {\n",
       "        vertical-align: middle;\n",
       "    }\n",
       "\n",
       "    .dataframe tbody tr th {\n",
       "        vertical-align: top;\n",
       "    }\n",
       "\n",
       "    .dataframe thead th {\n",
       "        text-align: right;\n",
       "    }\n",
       "</style>\n",
       "<table border=\"1\" class=\"dataframe\">\n",
       "  <thead>\n",
       "    <tr style=\"text-align: right;\">\n",
       "      <th></th>\n",
       "      <th>unified_id</th>\n",
       "      <th>month</th>\n",
       "      <th>city</th>\n",
       "      <th>host_type</th>\n",
       "    </tr>\n",
       "  </thead>\n",
       "  <tbody>\n",
       "    <tr>\n",
       "      <th>count</th>\n",
       "      <td>29928</td>\n",
       "      <td>29928</td>\n",
       "      <td>29928</td>\n",
       "      <td>29928</td>\n",
       "    </tr>\n",
       "    <tr>\n",
       "      <th>unique</th>\n",
       "      <td>3136</td>\n",
       "      <td>12</td>\n",
       "      <td>4</td>\n",
       "      <td>3</td>\n",
       "    </tr>\n",
       "    <tr>\n",
       "      <th>top</th>\n",
       "      <td>AIR10000347</td>\n",
       "      <td>2019-12</td>\n",
       "      <td>Big Bear Lake</td>\n",
       "      <td>Professionals</td>\n",
       "    </tr>\n",
       "    <tr>\n",
       "      <th>freq</th>\n",
       "      <td>12</td>\n",
       "      <td>2559</td>\n",
       "      <td>19908</td>\n",
       "      <td>18942</td>\n",
       "    </tr>\n",
       "  </tbody>\n",
       "</table>\n",
       "</div>"
      ],
      "text/plain": [
       "         unified_id    month           city      host_type\n",
       "count         29928    29928          29928          29928\n",
       "unique         3136       12              4              3\n",
       "top     AIR10000347  2019-12  Big Bear Lake  Professionals\n",
       "freq             12     2559          19908          18942"
      ]
     },
     "execution_count": 51,
     "metadata": {},
     "output_type": "execute_result"
    }
   ],
   "source": [
    "categorical_descriptive_stats"
   ]
  },
  {
   "cell_type": "markdown",
   "metadata": {},
   "source": [
    "# Time series analysis"
   ]
  },
  {
   "cell_type": "code",
   "execution_count": 52,
   "metadata": {},
   "outputs": [
    {
     "name": "stderr",
     "output_type": "stream",
     "text": [
      "/var/folders/1s/8_yq4qfn4wg43t727cpmhgb40000gn/T/ipykernel_2236/2530490027.py:8: FutureWarning: The default value of numeric_only in DataFrameGroupBy.mean is deprecated. In a future version, numeric_only will default to False. Either specify numeric_only or select only columns which should be valid for the function.\n",
      "  monthly_aggregated_data = market_analysis_2019.resample('M').mean()\n"
     ]
    },
    {
     "data": {
      "text/html": [
       "<div>\n",
       "<style scoped>\n",
       "    .dataframe tbody tr th:only-of-type {\n",
       "        vertical-align: middle;\n",
       "    }\n",
       "\n",
       "    .dataframe tbody tr th {\n",
       "        vertical-align: top;\n",
       "    }\n",
       "\n",
       "    .dataframe thead th {\n",
       "        text-align: right;\n",
       "    }\n",
       "</style>\n",
       "<table border=\"1\" class=\"dataframe\">\n",
       "  <thead>\n",
       "    <tr style=\"text-align: right;\">\n",
       "      <th></th>\n",
       "      <th>zipcode</th>\n",
       "      <th>bedrooms</th>\n",
       "      <th>revenue</th>\n",
       "      <th>openness</th>\n",
       "      <th>occupancy</th>\n",
       "      <th>nightly rate</th>\n",
       "      <th>lead time</th>\n",
       "      <th>length stay</th>\n",
       "    </tr>\n",
       "    <tr>\n",
       "      <th>month</th>\n",
       "      <th></th>\n",
       "      <th></th>\n",
       "      <th></th>\n",
       "      <th></th>\n",
       "      <th></th>\n",
       "      <th></th>\n",
       "      <th></th>\n",
       "      <th></th>\n",
       "    </tr>\n",
       "  </thead>\n",
       "  <tbody>\n",
       "    <tr>\n",
       "      <th>2019-01-31</th>\n",
       "      <td>92308.798048</td>\n",
       "      <td>3.378023</td>\n",
       "      <td>5158.390395</td>\n",
       "      <td>26.624523</td>\n",
       "      <td>0.411909</td>\n",
       "      <td>437.284883</td>\n",
       "      <td>42.071660</td>\n",
       "      <td>14.554083</td>\n",
       "    </tr>\n",
       "    <tr>\n",
       "      <th>2019-02-28</th>\n",
       "      <td>92308.451879</td>\n",
       "      <td>3.382074</td>\n",
       "      <td>4661.721424</td>\n",
       "      <td>25.624948</td>\n",
       "      <td>0.470621</td>\n",
       "      <td>391.494201</td>\n",
       "      <td>34.441211</td>\n",
       "      <td>2.921277</td>\n",
       "    </tr>\n",
       "    <tr>\n",
       "      <th>2019-03-31</th>\n",
       "      <td>92308.281800</td>\n",
       "      <td>3.385276</td>\n",
       "      <td>3909.341476</td>\n",
       "      <td>29.696524</td>\n",
       "      <td>0.424861</td>\n",
       "      <td>326.396448</td>\n",
       "      <td>23.288635</td>\n",
       "      <td>4.199180</td>\n",
       "    </tr>\n",
       "    <tr>\n",
       "      <th>2019-04-30</th>\n",
       "      <td>92308.138566</td>\n",
       "      <td>3.382058</td>\n",
       "      <td>2643.396020</td>\n",
       "      <td>28.943933</td>\n",
       "      <td>0.339129</td>\n",
       "      <td>261.752928</td>\n",
       "      <td>22.655108</td>\n",
       "      <td>3.773509</td>\n",
       "    </tr>\n",
       "    <tr>\n",
       "      <th>2019-05-31</th>\n",
       "      <td>92307.968563</td>\n",
       "      <td>3.381616</td>\n",
       "      <td>2706.081021</td>\n",
       "      <td>30.239156</td>\n",
       "      <td>0.330717</td>\n",
       "      <td>267.223198</td>\n",
       "      <td>24.463310</td>\n",
       "      <td>3.928919</td>\n",
       "    </tr>\n",
       "  </tbody>\n",
       "</table>\n",
       "</div>"
      ],
      "text/plain": [
       "                 zipcode  bedrooms      revenue   openness  occupancy  \\\n",
       "month                                                                   \n",
       "2019-01-31  92308.798048  3.378023  5158.390395  26.624523   0.411909   \n",
       "2019-02-28  92308.451879  3.382074  4661.721424  25.624948   0.470621   \n",
       "2019-03-31  92308.281800  3.385276  3909.341476  29.696524   0.424861   \n",
       "2019-04-30  92308.138566  3.382058  2643.396020  28.943933   0.339129   \n",
       "2019-05-31  92307.968563  3.381616  2706.081021  30.239156   0.330717   \n",
       "\n",
       "            nightly rate  lead time  length stay  \n",
       "month                                             \n",
       "2019-01-31    437.284883  42.071660    14.554083  \n",
       "2019-02-28    391.494201  34.441211     2.921277  \n",
       "2019-03-31    326.396448  23.288635     4.199180  \n",
       "2019-04-30    261.752928  22.655108     3.773509  \n",
       "2019-05-31    267.223198  24.463310     3.928919  "
      ]
     },
     "execution_count": 52,
     "metadata": {},
     "output_type": "execute_result"
    }
   ],
   "source": [
    "# Convert 'month' to datetime format\n",
    "market_analysis_2019['month'] = pd.to_datetime(market_analysis_2019['month'], format='%Y-%m')\n",
    "\n",
    "# Setting 'month' as the index for time series analysis\n",
    "market_analysis_2019.set_index('month', inplace=True)\n",
    "\n",
    "# Aggregating data by month\n",
    "monthly_aggregated_data = market_analysis_2019.resample('M').mean()\n",
    "\n",
    "# Displaying the first few rows of the aggregated monthly data\n",
    "monthly_aggregated_data.head()"
   ]
  },
  {
   "cell_type": "markdown",
   "metadata": {},
   "source": [
    "This analysis provides insights into the seasonal trends in the Airbnb market in the studied regions. Revenue, occupancy, and nightly rates show clear seasonal patterns, likely influenced by tourist seasons, holidays, and local events."
   ]
  },
  {
   "cell_type": "markdown",
   "metadata": {},
   "source": [
    "# The comparative analysis"
   ]
  },
  {
   "cell_type": "code",
   "execution_count": 53,
   "metadata": {},
   "outputs": [
    {
     "name": "stderr",
     "output_type": "stream",
     "text": [
      "/var/folders/1s/8_yq4qfn4wg43t727cpmhgb40000gn/T/ipykernel_2236/360183496.py:2: FutureWarning: The default value of numeric_only in DataFrameGroupBy.mean is deprecated. In a future version, numeric_only will default to False. Either specify numeric_only or select only columns which should be valid for the function.\n",
      "  grouped_data_city = market_analysis_2019.groupby(['city']).mean()\n",
      "/var/folders/1s/8_yq4qfn4wg43t727cpmhgb40000gn/T/ipykernel_2236/360183496.py:3: FutureWarning: The default value of numeric_only in DataFrameGroupBy.mean is deprecated. In a future version, numeric_only will default to False. Either specify numeric_only or select only columns which should be valid for the function.\n",
      "  grouped_data_host_type = market_analysis_2019.groupby(['host_type']).mean()\n"
     ]
    },
    {
     "data": {
      "text/html": [
       "<div>\n",
       "<style scoped>\n",
       "    .dataframe tbody tr th:only-of-type {\n",
       "        vertical-align: middle;\n",
       "    }\n",
       "\n",
       "    .dataframe tbody tr th {\n",
       "        vertical-align: top;\n",
       "    }\n",
       "\n",
       "    .dataframe thead th {\n",
       "        text-align: right;\n",
       "    }\n",
       "</style>\n",
       "<table border=\"1\" class=\"dataframe\">\n",
       "  <thead>\n",
       "    <tr style=\"text-align: right;\">\n",
       "      <th></th>\n",
       "      <th>zipcode</th>\n",
       "      <th>bedrooms</th>\n",
       "      <th>revenue</th>\n",
       "      <th>openness</th>\n",
       "      <th>occupancy</th>\n",
       "      <th>nightly rate</th>\n",
       "      <th>lead time</th>\n",
       "      <th>length stay</th>\n",
       "    </tr>\n",
       "    <tr>\n",
       "      <th>city</th>\n",
       "      <th></th>\n",
       "      <th></th>\n",
       "      <th></th>\n",
       "      <th></th>\n",
       "      <th></th>\n",
       "      <th></th>\n",
       "      <th></th>\n",
       "      <th></th>\n",
       "    </tr>\n",
       "  </thead>\n",
       "  <tbody>\n",
       "    <tr>\n",
       "      <th>Big Bear City</th>\n",
       "      <td>92314.0</td>\n",
       "      <td>3.361734</td>\n",
       "      <td>3197.932561</td>\n",
       "      <td>28.914134</td>\n",
       "      <td>0.377834</td>\n",
       "      <td>288.000572</td>\n",
       "      <td>28.749463</td>\n",
       "      <td>5.079949</td>\n",
       "    </tr>\n",
       "    <tr>\n",
       "      <th>Big Bear Lake</th>\n",
       "      <td>92315.0</td>\n",
       "      <td>3.411443</td>\n",
       "      <td>3924.472742</td>\n",
       "      <td>28.888035</td>\n",
       "      <td>0.380599</td>\n",
       "      <td>355.012536</td>\n",
       "      <td>30.272771</td>\n",
       "      <td>4.886131</td>\n",
       "    </tr>\n",
       "    <tr>\n",
       "      <th>Joshua Tree</th>\n",
       "      <td>92252.0</td>\n",
       "      <td>3.261704</td>\n",
       "      <td>3812.672666</td>\n",
       "      <td>28.645434</td>\n",
       "      <td>0.538939</td>\n",
       "      <td>244.492286</td>\n",
       "      <td>36.121337</td>\n",
       "      <td>3.534302</td>\n",
       "    </tr>\n",
       "    <tr>\n",
       "      <th>Yucca Valley</th>\n",
       "      <td>92284.0</td>\n",
       "      <td>3.304379</td>\n",
       "      <td>4626.656953</td>\n",
       "      <td>28.850682</td>\n",
       "      <td>0.522340</td>\n",
       "      <td>291.398139</td>\n",
       "      <td>37.365406</td>\n",
       "      <td>4.277620</td>\n",
       "    </tr>\n",
       "  </tbody>\n",
       "</table>\n",
       "</div>"
      ],
      "text/plain": [
       "               zipcode  bedrooms      revenue   openness  occupancy  \\\n",
       "city                                                                  \n",
       "Big Bear City  92314.0  3.361734  3197.932561  28.914134   0.377834   \n",
       "Big Bear Lake  92315.0  3.411443  3924.472742  28.888035   0.380599   \n",
       "Joshua Tree    92252.0  3.261704  3812.672666  28.645434   0.538939   \n",
       "Yucca Valley   92284.0  3.304379  4626.656953  28.850682   0.522340   \n",
       "\n",
       "               nightly rate  lead time  length stay  \n",
       "city                                                 \n",
       "Big Bear City    288.000572  28.749463     5.079949  \n",
       "Big Bear Lake    355.012536  30.272771     4.886131  \n",
       "Joshua Tree      244.492286  36.121337     3.534302  \n",
       "Yucca Valley     291.398139  37.365406     4.277620  "
      ]
     },
     "execution_count": 53,
     "metadata": {},
     "output_type": "execute_result"
    }
   ],
   "source": [
    "# Grouping data by city and host type for comparison\n",
    "grouped_data_city = market_analysis_2019.groupby(['city']).mean()\n",
    "grouped_data_host_type = market_analysis_2019.groupby(['host_type']).mean()\n",
    "\n",
    "# Displaying the aggregated data for comparison\n",
    "grouped_data_city"
   ]
  },
  {
   "cell_type": "code",
   "execution_count": 54,
   "metadata": {},
   "outputs": [
    {
     "data": {
      "text/html": [
       "<div>\n",
       "<style scoped>\n",
       "    .dataframe tbody tr th:only-of-type {\n",
       "        vertical-align: middle;\n",
       "    }\n",
       "\n",
       "    .dataframe tbody tr th {\n",
       "        vertical-align: top;\n",
       "    }\n",
       "\n",
       "    .dataframe thead th {\n",
       "        text-align: right;\n",
       "    }\n",
       "</style>\n",
       "<table border=\"1\" class=\"dataframe\">\n",
       "  <thead>\n",
       "    <tr style=\"text-align: right;\">\n",
       "      <th></th>\n",
       "      <th>zipcode</th>\n",
       "      <th>bedrooms</th>\n",
       "      <th>revenue</th>\n",
       "      <th>openness</th>\n",
       "      <th>occupancy</th>\n",
       "      <th>nightly rate</th>\n",
       "      <th>lead time</th>\n",
       "      <th>length stay</th>\n",
       "    </tr>\n",
       "    <tr>\n",
       "      <th>host_type</th>\n",
       "      <th></th>\n",
       "      <th></th>\n",
       "      <th></th>\n",
       "      <th></th>\n",
       "      <th></th>\n",
       "      <th></th>\n",
       "      <th></th>\n",
       "      <th></th>\n",
       "    </tr>\n",
       "  </thead>\n",
       "  <tbody>\n",
       "    <tr>\n",
       "      <th>2-5 Units</th>\n",
       "      <td>92294.161749</td>\n",
       "      <td>3.347562</td>\n",
       "      <td>4100.729236</td>\n",
       "      <td>28.579201</td>\n",
       "      <td>0.462048</td>\n",
       "      <td>307.141448</td>\n",
       "      <td>35.886332</td>\n",
       "      <td>3.629671</td>\n",
       "    </tr>\n",
       "    <tr>\n",
       "      <th>Professionals</th>\n",
       "      <td>92312.571165</td>\n",
       "      <td>3.421920</td>\n",
       "      <td>3863.948585</td>\n",
       "      <td>29.005543</td>\n",
       "      <td>0.374128</td>\n",
       "      <td>350.598248</td>\n",
       "      <td>28.308626</td>\n",
       "      <td>5.422563</td>\n",
       "    </tr>\n",
       "    <tr>\n",
       "      <th>Single Owners</th>\n",
       "      <td>92304.078621</td>\n",
       "      <td>3.293540</td>\n",
       "      <td>3379.426289</td>\n",
       "      <td>28.682294</td>\n",
       "      <td>0.433242</td>\n",
       "      <td>277.740736</td>\n",
       "      <td>34.125353</td>\n",
       "      <td>3.852793</td>\n",
       "    </tr>\n",
       "  </tbody>\n",
       "</table>\n",
       "</div>"
      ],
      "text/plain": [
       "                    zipcode  bedrooms      revenue   openness  occupancy  \\\n",
       "host_type                                                                  \n",
       "2-5 Units      92294.161749  3.347562  4100.729236  28.579201   0.462048   \n",
       "Professionals  92312.571165  3.421920  3863.948585  29.005543   0.374128   \n",
       "Single Owners  92304.078621  3.293540  3379.426289  28.682294   0.433242   \n",
       "\n",
       "               nightly rate  lead time  length stay  \n",
       "host_type                                            \n",
       "2-5 Units        307.141448  35.886332     3.629671  \n",
       "Professionals    350.598248  28.308626     5.422563  \n",
       "Single Owners    277.740736  34.125353     3.852793  "
      ]
     },
     "execution_count": 54,
     "metadata": {},
     "output_type": "execute_result"
    }
   ],
   "source": [
    "grouped_data_host_type\n"
   ]
  },
  {
   "cell_type": "markdown",
   "metadata": {},
   "source": [
    "These comparisons show variations in revenue, occupancy, nightly rates, and other metrics based on city and host type. For instance, Yucca Valley has the highest average revenue and Joshua Tree shows the highest occupancy rate. Professional hosts have a longer average length of stay compared to other host types."
   ]
  },
  {
   "cell_type": "code",
   "execution_count": 55,
   "metadata": {},
   "outputs": [
    {
     "name": "stderr",
     "output_type": "stream",
     "text": [
      "/var/folders/1s/8_yq4qfn4wg43t727cpmhgb40000gn/T/ipykernel_2236/2053589652.py:1: FutureWarning: The error_bad_lines argument has been deprecated and will be removed in a future version. Use on_bad_lines in the future.\n",
      "\n",
      "\n",
      "  market_analysis_current = pd.read_csv('/Users/ymadigital/Downloads/Airbnb Market Analysis & Real Estate Sales Data/data/market_analysis.csv', sep=';', error_bad_lines=False)\n"
     ]
    },
    {
     "data": {
      "text/html": [
       "<div>\n",
       "<style scoped>\n",
       "    .dataframe tbody tr th:only-of-type {\n",
       "        vertical-align: middle;\n",
       "    }\n",
       "\n",
       "    .dataframe tbody tr th {\n",
       "        vertical-align: top;\n",
       "    }\n",
       "\n",
       "    .dataframe thead th {\n",
       "        text-align: right;\n",
       "    }\n",
       "</style>\n",
       "<table border=\"1\" class=\"dataframe\">\n",
       "  <thead>\n",
       "    <tr style=\"text-align: right;\">\n",
       "      <th></th>\n",
       "      <th>unified_id</th>\n",
       "      <th>month</th>\n",
       "      <th>zipcode</th>\n",
       "      <th>city</th>\n",
       "      <th>host_type</th>\n",
       "      <th>bedrooms</th>\n",
       "      <th>bathrooms</th>\n",
       "      <th>guests</th>\n",
       "      <th>revenue</th>\n",
       "      <th>openness</th>\n",
       "      <th>occupancy</th>\n",
       "      <th>nightly rate</th>\n",
       "      <th>lead time</th>\n",
       "      <th>length stay</th>\n",
       "    </tr>\n",
       "  </thead>\n",
       "  <tbody>\n",
       "    <tr>\n",
       "      <th>0</th>\n",
       "      <td>10000347</td>\n",
       "      <td>2020-1</td>\n",
       "      <td>92315</td>\n",
       "      <td>Big Bear Lake</td>\n",
       "      <td>2-5 Units</td>\n",
       "      <td>3</td>\n",
       "      <td>2.0</td>\n",
       "      <td>10</td>\n",
       "      <td>899,9599915</td>\n",
       "      <td>31</td>\n",
       "      <td>0,064516129</td>\n",
       "      <td>449,9799957</td>\n",
       "      <td>52</td>\n",
       "      <td>3</td>\n",
       "    </tr>\n",
       "    <tr>\n",
       "      <th>1</th>\n",
       "      <td>10000347</td>\n",
       "      <td>2020-10</td>\n",
       "      <td>92315</td>\n",
       "      <td>Big Bear Lake</td>\n",
       "      <td>2-5 Units</td>\n",
       "      <td>3</td>\n",
       "      <td>2.0</td>\n",
       "      <td>10</td>\n",
       "      <td>13950</td>\n",
       "      <td>31</td>\n",
       "      <td>1</td>\n",
       "      <td>450</td>\n",
       "      <td>NaN</td>\n",
       "      <td>NaN</td>\n",
       "    </tr>\n",
       "    <tr>\n",
       "      <th>2</th>\n",
       "      <td>10000347</td>\n",
       "      <td>2020-11</td>\n",
       "      <td>92315</td>\n",
       "      <td>Big Bear Lake</td>\n",
       "      <td>2-5 Units</td>\n",
       "      <td>3</td>\n",
       "      <td>2.0</td>\n",
       "      <td>10</td>\n",
       "      <td>13500</td>\n",
       "      <td>30</td>\n",
       "      <td>1</td>\n",
       "      <td>450</td>\n",
       "      <td>NaN</td>\n",
       "      <td>NaN</td>\n",
       "    </tr>\n",
       "    <tr>\n",
       "      <th>3</th>\n",
       "      <td>10000347</td>\n",
       "      <td>2020-12</td>\n",
       "      <td>92315</td>\n",
       "      <td>Big Bear Lake</td>\n",
       "      <td>2-5 Units</td>\n",
       "      <td>3</td>\n",
       "      <td>2.0</td>\n",
       "      <td>10</td>\n",
       "      <td>13950</td>\n",
       "      <td>31</td>\n",
       "      <td>1</td>\n",
       "      <td>450</td>\n",
       "      <td>NaN</td>\n",
       "      <td>NaN</td>\n",
       "    </tr>\n",
       "    <tr>\n",
       "      <th>4</th>\n",
       "      <td>10000347</td>\n",
       "      <td>2020-2</td>\n",
       "      <td>92315</td>\n",
       "      <td>Big Bear Lake</td>\n",
       "      <td>2-5 Units</td>\n",
       "      <td>3</td>\n",
       "      <td>2.0</td>\n",
       "      <td>10</td>\n",
       "      <td>450</td>\n",
       "      <td>29</td>\n",
       "      <td>0,034482759</td>\n",
       "      <td>450</td>\n",
       "      <td>8</td>\n",
       "      <td>1</td>\n",
       "    </tr>\n",
       "  </tbody>\n",
       "</table>\n",
       "</div>"
      ],
      "text/plain": [
       "   unified_id    month  zipcode           city  host_type  bedrooms  \\\n",
       "0    10000347   2020-1    92315  Big Bear Lake  2-5 Units         3   \n",
       "1    10000347  2020-10    92315  Big Bear Lake  2-5 Units         3   \n",
       "2    10000347  2020-11    92315  Big Bear Lake  2-5 Units         3   \n",
       "3    10000347  2020-12    92315  Big Bear Lake  2-5 Units         3   \n",
       "4    10000347   2020-2    92315  Big Bear Lake  2-5 Units         3   \n",
       "\n",
       "   bathrooms guests      revenue  openness    occupancy nightly rate  \\\n",
       "0        2.0     10  899,9599915        31  0,064516129  449,9799957   \n",
       "1        2.0     10        13950        31            1          450   \n",
       "2        2.0     10        13500        30            1          450   \n",
       "3        2.0     10        13950        31            1          450   \n",
       "4        2.0     10          450        29  0,034482759          450   \n",
       "\n",
       "  lead time length stay  \n",
       "0        52           3  \n",
       "1       NaN         NaN  \n",
       "2       NaN         NaN  \n",
       "3       NaN         NaN  \n",
       "4         8           1  "
      ]
     },
     "execution_count": 55,
     "metadata": {},
     "output_type": "execute_result"
    }
   ],
   "source": [
    "market_analysis_current = pd.read_csv('/Users/ymadigital/Downloads/Airbnb Market Analysis & Real Estate Sales Data/data/market_analysis.csv', sep=';', error_bad_lines=False)\n",
    "market_analysis_current.head()"
   ]
  },
  {
   "cell_type": "markdown",
   "metadata": {},
   "source": [
    "# Market Overview"
   ]
  },
  {
   "cell_type": "code",
   "execution_count": 56,
   "metadata": {},
   "outputs": [
    {
     "data": {
      "text/html": [
       "<div>\n",
       "<style scoped>\n",
       "    .dataframe tbody tr th:only-of-type {\n",
       "        vertical-align: middle;\n",
       "    }\n",
       "\n",
       "    .dataframe tbody tr th {\n",
       "        vertical-align: top;\n",
       "    }\n",
       "\n",
       "    .dataframe thead th {\n",
       "        text-align: right;\n",
       "    }\n",
       "</style>\n",
       "<table border=\"1\" class=\"dataframe\">\n",
       "  <thead>\n",
       "    <tr style=\"text-align: right;\">\n",
       "      <th>month</th>\n",
       "      <th>2020</th>\n",
       "      <th>2021</th>\n",
       "      <th>2022</th>\n",
       "    </tr>\n",
       "    <tr>\n",
       "      <th>city</th>\n",
       "      <th></th>\n",
       "      <th></th>\n",
       "      <th></th>\n",
       "    </tr>\n",
       "  </thead>\n",
       "  <tbody>\n",
       "    <tr>\n",
       "      <th>Big Bear City</th>\n",
       "      <td>7075</td>\n",
       "      <td>8925</td>\n",
       "      <td>11355</td>\n",
       "    </tr>\n",
       "    <tr>\n",
       "      <th>Big Bear Lake</th>\n",
       "      <td>18881</td>\n",
       "      <td>22459</td>\n",
       "      <td>24469</td>\n",
       "    </tr>\n",
       "    <tr>\n",
       "      <th>Joshua Tree</th>\n",
       "      <td>2974</td>\n",
       "      <td>4129</td>\n",
       "      <td>5762</td>\n",
       "    </tr>\n",
       "    <tr>\n",
       "      <th>Yucca Valley</th>\n",
       "      <td>1718</td>\n",
       "      <td>3058</td>\n",
       "      <td>5814</td>\n",
       "    </tr>\n",
       "  </tbody>\n",
       "</table>\n",
       "</div>"
      ],
      "text/plain": [
       "month           2020   2021   2022\n",
       "city                              \n",
       "Big Bear City   7075   8925  11355\n",
       "Big Bear Lake  18881  22459  24469\n",
       "Joshua Tree     2974   4129   5762\n",
       "Yucca Valley    1718   3058   5814"
      ]
     },
     "execution_count": 56,
     "metadata": {},
     "output_type": "execute_result"
    }
   ],
   "source": [
    "# Combining the 2019 and current market analysis data\n",
    "market_analysis_combined = pd.concat([market_analysis_2019, market_analysis_current])\n",
    "\n",
    "# Grouping by city and year to see the number of listings\n",
    "listings_by_city_year = market_analysis_combined.groupby(['city', market_analysis_combined['month'].str[:4]]).size().unstack(fill_value=0)\n",
    "\n",
    "# Display the data\n",
    "listings_by_city_year"
   ]
  },
  {
   "cell_type": "markdown",
   "metadata": {},
   "source": [
    "These trends indicate a generally increasing interest in Airbnb listings in these cities, with a particularly strong growth in Yucca Valley and Joshua Tree in recent years. The decrease observed in Big Bear Lake in 2020 might be due to external factors such as the COVID-19 pandemic, but it rebounded in the following years."
   ]
  },
  {
   "cell_type": "markdown",
   "metadata": {},
   "source": [
    "# Property Types and Amenities"
   ]
  },
  {
   "cell_type": "code",
   "execution_count": 57,
   "metadata": {},
   "outputs": [
    {
     "name": "stderr",
     "output_type": "stream",
     "text": [
      "/var/folders/1s/8_yq4qfn4wg43t727cpmhgb40000gn/T/ipykernel_2236/2378563770.py:11: FutureWarning: The error_bad_lines argument has been deprecated and will be removed in a future version. Use on_bad_lines in the future.\n",
      "\n",
      "\n",
      "  amenities_data = pd.read_csv('/Users/ymadigital/Downloads/Airbnb Market Analysis & Real Estate Sales Data/data/amenities.csv', sep=';', error_bad_lines=False)\n"
     ]
    },
    {
     "data": {
      "text/html": [
       "<div>\n",
       "<style scoped>\n",
       "    .dataframe tbody tr th:only-of-type {\n",
       "        vertical-align: middle;\n",
       "    }\n",
       "\n",
       "    .dataframe tbody tr th {\n",
       "        vertical-align: top;\n",
       "    }\n",
       "\n",
       "    .dataframe thead th {\n",
       "        text-align: right;\n",
       "    }\n",
       "</style>\n",
       "<table border=\"1\" class=\"dataframe\">\n",
       "  <thead>\n",
       "    <tr style=\"text-align: right;\">\n",
       "      <th></th>\n",
       "      <th>host_type</th>\n",
       "    </tr>\n",
       "  </thead>\n",
       "  <tbody>\n",
       "    <tr>\n",
       "      <th>Professionals</th>\n",
       "      <td>87852</td>\n",
       "    </tr>\n",
       "    <tr>\n",
       "      <th>Single Owners</th>\n",
       "      <td>32986</td>\n",
       "    </tr>\n",
       "    <tr>\n",
       "      <th>2-5 Units</th>\n",
       "      <td>25709</td>\n",
       "    </tr>\n",
       "  </tbody>\n",
       "</table>\n",
       "</div>"
      ],
      "text/plain": [
       "               host_type\n",
       "Professionals      87852\n",
       "Single Owners      32986\n",
       "2-5 Units          25709"
      ]
     },
     "execution_count": 57,
     "metadata": {},
     "output_type": "execute_result"
    }
   ],
   "source": [
    "# Checking for columns related to property types in the market analysis data\n",
    "property_type_columns = [col for col in market_analysis_combined.columns if 'type' in col.lower()]\n",
    "\n",
    "# Extracting the relevant property type information\n",
    "property_types = market_analysis_combined[property_type_columns]\n",
    "\n",
    "# Counting the distribution of different property types\n",
    "property_type_distribution = property_types.apply(pd.Series.value_counts).fillna(0).astype(int)\n",
    "\n",
    "# Analyzing common amenities and their impact\n",
    "amenities_data = pd.read_csv('/Users/ymadigital/Downloads/Airbnb Market Analysis & Real Estate Sales Data/data/amenities.csv', sep=';', error_bad_lines=False)\n",
    "amenities_distribution = amenities_data.sum(numeric_only=True)\n",
    "\n",
    "# Displaying the results\n",
    "property_type_distribution"
   ]
  },
  {
   "cell_type": "markdown",
   "metadata": {},
   "source": [
    "This distribution indicates that the majority of listings are managed by professionals, followed by single owners and those owning 2-5 units. This suggests a diverse range of hosts, with professional management playing a significant role in the Airbnb market."
   ]
  },
  {
   "cell_type": "code",
   "execution_count": 58,
   "metadata": {},
   "outputs": [
    {
     "data": {
      "text/plain": [
       "hot_tub    25746\n",
       "pool        4036\n",
       "dtype: int64"
      ]
     },
     "execution_count": 58,
     "metadata": {},
     "output_type": "execute_result"
    }
   ],
   "source": [
    "amenities_distribution"
   ]
  },
  {
   "cell_type": "markdown",
   "metadata": {},
   "source": [
    "Hot tubs are a more common amenity compared to pools. The presence of these amenities can potentially increase the attractiveness and, consequently, the rental price or popularity of the listings."
   ]
  },
  {
   "cell_type": "markdown",
   "metadata": {},
   "source": [
    "# Correlation Analysis"
   ]
  },
  {
   "cell_type": "code",
   "execution_count": 74,
   "metadata": {},
   "outputs": [
    {
     "name": "stderr",
     "output_type": "stream",
     "text": [
      "/var/folders/1s/8_yq4qfn4wg43t727cpmhgb40000gn/T/ipykernel_2236/1153640205.py:7: SettingWithCopyWarning: \n",
      "A value is trying to be set on a copy of a slice from a DataFrame.\n",
      "Try using .loc[row_indexer,col_indexer] = value instead\n",
      "\n",
      "See the caveats in the documentation: https://pandas.pydata.org/pandas-docs/stable/user_guide/indexing.html#returning-a-view-versus-a-copy\n",
      "  correlation_data['hot_tub'] = amenities_data['hot_tub']\n",
      "/var/folders/1s/8_yq4qfn4wg43t727cpmhgb40000gn/T/ipykernel_2236/1153640205.py:8: SettingWithCopyWarning: \n",
      "A value is trying to be set on a copy of a slice from a DataFrame.\n",
      "Try using .loc[row_indexer,col_indexer] = value instead\n",
      "\n",
      "See the caveats in the documentation: https://pandas.pydata.org/pandas-docs/stable/user_guide/indexing.html#returning-a-view-versus-a-copy\n",
      "  correlation_data['pool'] = amenities_data['pool']\n"
     ]
    },
    {
     "data": {
      "image/png": "[encoded data removed]",
      "text/plain": [
       "<Figure size 1000x800 with 2 Axes>"
      ]
     },
     "metadata": {},
     "output_type": "display_data"
    }
   ],
   "source": [
    "import matplotlib.pyplot as plt\n",
    "import seaborn as sns\n",
    "\n",
    "# Preparing the data for correlation analysis\n",
    "# For amenities, we'll use binary representations of hot tub and pool\n",
    "correlation_data = market_analysis_combined[['nightly rate', 'occupancy', 'length stay']]\n",
    "correlation_data['hot_tub'] = amenities_data['hot_tub']\n",
    "correlation_data['pool'] = amenities_data['pool']\n",
    "\n",
    "# Calculating the correlation matrix\n",
    "correlation_matrix = correlation_data.corr()\n",
    "\n",
    "# Plotting the heatmap\n",
    "plt.figure(figsize=(10, 8))\n",
    "sns.heatmap(correlation_matrix, annot=True, cmap='coolwarm', fmt=\".2f\")\n",
    "plt.title(\"Correlation Matrix of Airbnb Properties\")\n",
    "plt.show()"
   ]
  },
  {
   "cell_type": "markdown",
   "metadata": {},
   "source": [
    "**Nightly Rate and Occupancy:** There appears to be a weak correlation between nightly rate and occupancy. This suggests that higher prices don't necessarily mean lower occupancy and vice versa.\n",
    "\n",
    "**Nightly Rate and Length of Stay:** The correlation between nightly rate and length of stay is also relatively weak, indicating that pricing does not strongly dictate how long guests stay.\n",
    "\n",
    "**Occupancy and Length of Stay:** There is a very slight correlation between occupancy and length of stay, but it's not strong enough to draw significant conclusions.\n",
    "\n",
    "**Amenities (Hot Tub and Pool):** The presence of a hot tub or pool shows very low correlation with nightly rate, occupancy, and length of stay. This suggests that while these amenities might enhance the appeal of a listing, they don't have a strong direct impact on these specific metrics.\n"
   ]
  },
  {
   "cell_type": "markdown",
   "metadata": {},
   "source": [
    "# Pricing Analysis"
   ]
  },
  {
   "cell_type": "code",
   "execution_count": 59,
   "metadata": {},
   "outputs": [
    {
     "data": {
      "text/plain": [
       "(city\n",
       " Big Bear City    397.948269\n",
       " Big Bear Lake    489.990618\n",
       " Joshua Tree      409.906286\n",
       " Yucca Valley     412.591309\n",
       " Name: nightly rate, dtype: float64,\n",
       " host_type\n",
       " 2-5 Units        432.390586\n",
       " Professionals    484.220375\n",
       " Single Owners    392.774182\n",
       " Name: nightly rate, dtype: float64)"
      ]
     },
     "execution_count": 59,
     "metadata": {},
     "output_type": "execute_result"
    }
   ],
   "source": [
    "# Converting 'nightly rate' to numeric for calculation, handling any non-numeric issues\n",
    "market_analysis_combined['nightly rate'] = pd.to_numeric(market_analysis_combined['nightly rate'].str.replace(',', '.'), errors='coerce')\n",
    "\n",
    "# Calculating average rental prices by city and property type\n",
    "average_prices_city = market_analysis_combined.groupby('city')['nightly rate'].mean()\n",
    "average_prices_property_type = market_analysis_combined.groupby('host_type')['nightly rate'].mean()\n",
    "\n",
    "# Displaying the results\n",
    "average_prices_city, average_prices_property_type\n"
   ]
  },
  {
   "cell_type": "markdown",
   "metadata": {},
   "source": [
    "These findings indicate that rental prices vary both by location and property type. Properties in Big Bear Lake and managed by professionals tend to have higher average rental prices. In contrast, properties owned by single owners have lower average rates."
   ]
  },
  {
   "cell_type": "markdown",
   "metadata": {},
   "source": [
    "# Seasonal variations in pricing"
   ]
  },
  {
   "cell_type": "code",
   "execution_count": 60,
   "metadata": {},
   "outputs": [
    {
     "data": {
      "text/html": [
       "<div>\n",
       "<style scoped>\n",
       "    .dataframe tbody tr th:only-of-type {\n",
       "        vertical-align: middle;\n",
       "    }\n",
       "\n",
       "    .dataframe tbody tr th {\n",
       "        vertical-align: top;\n",
       "    }\n",
       "\n",
       "    .dataframe thead th {\n",
       "        text-align: right;\n",
       "    }\n",
       "</style>\n",
       "<table border=\"1\" class=\"dataframe\">\n",
       "  <thead>\n",
       "    <tr style=\"text-align: right;\">\n",
       "      <th>month_only</th>\n",
       "      <th>1</th>\n",
       "      <th>10</th>\n",
       "      <th>11</th>\n",
       "      <th>12</th>\n",
       "      <th>2</th>\n",
       "      <th>3</th>\n",
       "      <th>4</th>\n",
       "      <th>5</th>\n",
       "      <th>6</th>\n",
       "      <th>7</th>\n",
       "      <th>8</th>\n",
       "      <th>9</th>\n",
       "    </tr>\n",
       "    <tr>\n",
       "      <th>year</th>\n",
       "      <th></th>\n",
       "      <th></th>\n",
       "      <th></th>\n",
       "      <th></th>\n",
       "      <th></th>\n",
       "      <th></th>\n",
       "      <th></th>\n",
       "      <th></th>\n",
       "      <th></th>\n",
       "      <th></th>\n",
       "      <th></th>\n",
       "      <th></th>\n",
       "    </tr>\n",
       "  </thead>\n",
       "  <tbody>\n",
       "    <tr>\n",
       "      <th>2020</th>\n",
       "      <td>477.277199</td>\n",
       "      <td>388.772876</td>\n",
       "      <td>480.135618</td>\n",
       "      <td>651.292524</td>\n",
       "      <td>432.001611</td>\n",
       "      <td>331.400840</td>\n",
       "      <td>305.591366</td>\n",
       "      <td>311.475238</td>\n",
       "      <td>322.166921</td>\n",
       "      <td>374.790957</td>\n",
       "      <td>375.008876</td>\n",
       "      <td>403.462178</td>\n",
       "    </tr>\n",
       "    <tr>\n",
       "      <th>2021</th>\n",
       "      <td>595.554021</td>\n",
       "      <td>400.293950</td>\n",
       "      <td>483.427330</td>\n",
       "      <td>684.823282</td>\n",
       "      <td>581.665608</td>\n",
       "      <td>497.115116</td>\n",
       "      <td>431.860563</td>\n",
       "      <td>428.752020</td>\n",
       "      <td>399.140430</td>\n",
       "      <td>443.310465</td>\n",
       "      <td>402.544495</td>\n",
       "      <td>408.639684</td>\n",
       "    </tr>\n",
       "    <tr>\n",
       "      <th>2022</th>\n",
       "      <td>586.527540</td>\n",
       "      <td>349.249514</td>\n",
       "      <td>435.458550</td>\n",
       "      <td>606.809077</td>\n",
       "      <td>548.912313</td>\n",
       "      <td>434.554874</td>\n",
       "      <td>396.006643</td>\n",
       "      <td>382.579805</td>\n",
       "      <td>369.884496</td>\n",
       "      <td>394.744941</td>\n",
       "      <td>351.578452</td>\n",
       "      <td>369.830297</td>\n",
       "    </tr>\n",
       "  </tbody>\n",
       "</table>\n",
       "</div>"
      ],
      "text/plain": [
       "month_only           1          10          11          12           2  \\\n",
       "year                                                                     \n",
       "2020        477.277199  388.772876  480.135618  651.292524  432.001611   \n",
       "2021        595.554021  400.293950  483.427330  684.823282  581.665608   \n",
       "2022        586.527540  349.249514  435.458550  606.809077  548.912313   \n",
       "\n",
       "month_only           3           4           5           6           7  \\\n",
       "year                                                                     \n",
       "2020        331.400840  305.591366  311.475238  322.166921  374.790957   \n",
       "2021        497.115116  431.860563  428.752020  399.140430  443.310465   \n",
       "2022        434.554874  396.006643  382.579805  369.884496  394.744941   \n",
       "\n",
       "month_only           8           9  \n",
       "year                                \n",
       "2020        375.008876  403.462178  \n",
       "2021        402.544495  408.639684  \n",
       "2022        351.578452  369.830297  "
      ]
     },
     "execution_count": 60,
     "metadata": {},
     "output_type": "execute_result"
    }
   ],
   "source": [
    "# Analyzing Seasonal Variations in Pricing\n",
    "# Extracting year and month from the 'month' column for seasonal analysis\n",
    "market_analysis_combined['year'] = market_analysis_combined['month'].str[:4]\n",
    "market_analysis_combined['month_only'] = market_analysis_combined['month'].str[5:]\n",
    "\n",
    "# Calculating average monthly rental prices for seasonal analysis\n",
    "seasonal_pricing = market_analysis_combined.groupby(['year', 'month_only'])['nightly rate'].mean().unstack(fill_value=0)\n",
    "\n",
    "# Displaying the seasonal pricing trends\n",
    "seasonal_pricing"
   ]
  },
  {
   "cell_type": "markdown",
   "metadata": {},
   "source": [
    "**Observations:**\n",
    "\n",
    "December consistently shows the highest rental prices each year, which could be due to holiday season demand.\n",
    "\n",
    "The general trend indicates an increase in average prices year over year.\n",
    "\n",
    "The lowest prices tend to occur in the spring months (March to May), potentially due to a decrease in tourist activity after winter holidays and before summer vacations.\n",
    "\n",
    "This seasonal pattern is crucial for pricing strategies, indicating that hosts may increase prices during peak months like December and reduce them during off-peak months to maintain occupancy."
   ]
  },
  {
   "cell_type": "markdown",
   "metadata": {},
   "source": [
    "# Occupancy Rates and Booking Patterns"
   ]
  },
  {
   "cell_type": "code",
   "execution_count": 61,
   "metadata": {},
   "outputs": [
    {
     "data": {
      "text/plain": [
       "(city\n",
       " Big Bear City    0.400672\n",
       " Big Bear Lake    0.414570\n",
       " Joshua Tree      0.561850\n",
       " Yucca Valley     0.532928\n",
       " Name: occupancy, dtype: float64,\n",
       " host_type\n",
       " 2-5 Units        0.517870\n",
       " Professionals    0.398255\n",
       " Single Owners    0.479178\n",
       " Name: occupancy, dtype: float64,\n",
       " city\n",
       " Big Bear City    5.664657\n",
       " Big Bear Lake    5.226578\n",
       " Joshua Tree      4.950280\n",
       " Yucca Valley     4.761094\n",
       " Name: length stay, dtype: float64,\n",
       " host_type\n",
       " 2-5 Units        4.594585\n",
       " Professionals    5.723540\n",
       " Single Owners    4.722304\n",
       " Name: length stay, dtype: float64)"
      ]
     },
     "execution_count": 61,
     "metadata": {},
     "output_type": "execute_result"
    }
   ],
   "source": [
    "# Analyzing Occupancy Rates and Booking Patterns\n",
    "\n",
    "# Converting 'occupancy' to numeric for calculation\n",
    "market_analysis_combined['occupancy'] = pd.to_numeric(market_analysis_combined['occupancy'].str.replace(',', '.'), errors='coerce')\n",
    "\n",
    "# Calculating average occupancy rates by city and property type\n",
    "average_occupancy_city = market_analysis_combined.groupby('city')['occupancy'].mean()\n",
    "average_occupancy_property_type = market_analysis_combined.groupby('host_type')['occupancy'].mean()\n",
    "\n",
    "# Analyzing Length of Stay Trends\n",
    "# Converting 'length stay' to numeric\n",
    "market_analysis_combined['length stay'] = pd.to_numeric(market_analysis_combined['length stay'].str.replace(',', '.'), errors='coerce')\n",
    "\n",
    "# Calculating average length of stay by city and property type\n",
    "average_length_stay_city = market_analysis_combined.groupby('city')['length stay'].mean()\n",
    "average_length_stay_property_type = market_analysis_combined.groupby('host_type')['length stay'].mean()\n",
    "\n",
    "# Displaying the results\n",
    "average_occupancy_city, average_occupancy_property_type, average_length_stay_city, average_length_stay_property_type"
   ]
  },
  {
   "cell_type": "markdown",
   "metadata": {},
   "source": [
    "**Observations:**\n",
    "\n",
    "Joshua Tree and Yucca Valley have higher occupancy rates compared to Big Bear City and Big Bear Lake.\n",
    "\n",
    "Properties managed by professionals have a lower average occupancy rate but a higher average length of stay.\n",
    "\n",
    "The average length of stay is generally around 4.5 to 5.5 days across different cities and property types.\n",
    "\n",
    "These findings suggest that certain areas and types of property management have distinct occupancy and length of stay patterns, which can inform targeted strategies for hosts in different regions and types of operations."
   ]
  },
  {
   "cell_type": "markdown",
   "metadata": {},
   "source": [
    "# Host Analysis"
   ]
  },
  {
   "cell_type": "code",
   "execution_count": 70,
   "metadata": {},
   "outputs": [
    {
     "data": {
      "text/plain": [
       "Professionals    87852\n",
       "Single Owners    32986\n",
       "2-5 Units        25709\n",
       "Name: host_type, dtype: int64"
      ]
     },
     "execution_count": 70,
     "metadata": {},
     "output_type": "execute_result"
    }
   ],
   "source": [
    "# Counting the number of listings by host type\n",
    "host_distribution = market_analysis_combined['host_type'].value_counts()\n",
    "\n",
    "# Already calculated average occupancy and rental prices by host type can be used as a proxy for host performance\n",
    "# Occupancy by host type\n",
    "average_occupancy_by_host_type = average_occupancy_property_type\n",
    "\n",
    "# Rental prices by host type\n",
    "average_rental_price_by_host_type = average_prices_property_type\n",
    "\n",
    "# Displaying the results\n",
    "host_distribution"
   ]
  },
  {
   "cell_type": "code",
   "execution_count": 71,
   "metadata": {},
   "outputs": [
    {
     "data": {
      "text/plain": [
       "host_type\n",
       "2-5 Units        0.517870\n",
       "Professionals    0.398255\n",
       "Single Owners    0.479178\n",
       "Name: occupancy, dtype: float64"
      ]
     },
     "execution_count": 71,
     "metadata": {},
     "output_type": "execute_result"
    }
   ],
   "source": [
    "average_occupancy_by_host_type"
   ]
  },
  {
   "cell_type": "code",
   "execution_count": 72,
   "metadata": {},
   "outputs": [
    {
     "data": {
      "text/plain": [
       "host_type\n",
       "2-5 Units        432.390586\n",
       "Professionals    484.220375\n",
       "Single Owners    392.774182\n",
       "Name: nightly rate, dtype: float64"
      ]
     },
     "execution_count": 72,
     "metadata": {},
     "output_type": "execute_result"
    }
   ],
   "source": [
    "average_rental_price_by_host_type"
   ]
  },
  {
   "cell_type": "markdown",
   "metadata": {},
   "source": [
    "**Observations:**\n",
    "\n",
    "Professionals, who likely manage multiple properties, have the highest number of listings but a lower occupancy rate. However, they achieve the highest average rental prices.\n",
    "\n",
    "Single Owners and those managing 2-5 Units have fewer listings but higher occupancy rates than professionals, with single owners having the lowest average rental prices.\n",
    "\n",
    "This suggests that while professionals may manage more properties, the demand (occupancy rate) is relatively higher for listings managed by single owners and those with 2-5 units.\n",
    "\n",
    "The analysis indicates a trade-off between the number of listings managed and occupancy rates, as well as variations in average rental prices based on the type of host. These factors can significantly impact the booking frequency and profitability of listings.\n",
    "\n"
   ]
  },
  {
   "cell_type": "markdown",
   "metadata": {},
   "source": [
    "# Trend Analysis"
   ]
  },
  {
   "cell_type": "code",
   "execution_count": 75,
   "metadata": {},
   "outputs": [
    {
     "name": "stderr",
     "output_type": "stream",
     "text": [
      "/var/folders/1s/8_yq4qfn4wg43t727cpmhgb40000gn/T/ipykernel_2236/3472679933.py:6: FutureWarning: The default value of numeric_only in DataFrameGroupBy.mean is deprecated. In a future version, numeric_only will default to False. Either specify numeric_only or select only columns which should be valid for the function.\n",
      "  monthly_trends = market_analysis_combined.groupby(market_analysis_combined['month'].dt.to_period('M')).mean()\n"
     ]
    },
    {
     "data": {
      "image/png": "[encoded data removed]",
      "text/plain": [
       "<Figure size 1500x600 with 2 Axes>"
      ]
     },
     "metadata": {},
     "output_type": "display_data"
    }
   ],
   "source": [
    "# Trend Analysis: Examining how average nightly rates and occupancy rates have evolved over time\n",
    "# Converting 'month' to datetime for easier plotting\n",
    "market_analysis_combined['month'] = pd.to_datetime(market_analysis_combined['month'], format='%Y-%m', errors='coerce')\n",
    "\n",
    "# Grouping by month for trend analysis\n",
    "monthly_trends = market_analysis_combined.groupby(market_analysis_combined['month'].dt.to_period('M')).mean()\n",
    "\n",
    "# Plotting trends\n",
    "plt.figure(figsize=(15, 6))\n",
    "\n",
    "# Trend for Average Nightly Rate\n",
    "plt.subplot(1, 2, 1)\n",
    "monthly_trends['nightly rate'].plot(color='blue', marker='o')\n",
    "plt.title('Trend of Average Nightly Rate Over Time')\n",
    "plt.xlabel('Month')\n",
    "plt.ylabel('Average Nightly Rate ($)')\n",
    "plt.xticks(rotation=45)\n",
    "\n",
    "# Trend for Occupancy Rate\n",
    "plt.subplot(1, 2, 2)\n",
    "monthly_trends['occupancy'].plot(color='green', marker='o')\n",
    "plt.title('Trend of Occupancy Rate Over Time')\n",
    "plt.xlabel('Month')\n",
    "plt.ylabel('Occupancy Rate (%)')\n",
    "plt.xticks(rotation=45)\n",
    "\n",
    "plt.tight_layout()\n",
    "plt.show()"
   ]
  },
  {
   "cell_type": "markdown",
   "metadata": {},
   "source": [
    "**The visualizations illustrate the trends in average nightly rates and occupancy rates over time for Airbnb properties:**\n",
    "\n",
    "**Trend of Average Nightly Rate Over Time:**\n",
    "\n",
    "The graph shows fluctuations in the average nightly rate across different months.\n",
    "\n",
    "There are noticeable peaks and troughs, which could correspond to high and low seasons in the tourism industry.\n",
    "\n",
    "**Trend of Occupancy Rate Over Time:**\n",
    "\n",
    "The occupancy rate trend also exhibits variability across different months.\n",
    "\n",
    "Similar to the nightly rate, the occupancy rate shows peaks and dips, potentially aligning with tourist seasons and possibly other factors like holidays or local events.\n",
    "\n",
    "**Interpretation:**\n",
    "\n",
    "Both the average nightly rate and occupancy rate demonstrate seasonality, indicating their susceptibility to external factors such as holidays, seasonal travel preferences, and possibly local events or conditions.\n",
    "\n",
    "The trends suggest that pricing strategies and occupancy levels are dynamic and likely influenced by a combination of factors including time of year, market demand, and local events.\n",
    "\n",
    "These insights are crucial for hosts in strategizing their pricing and marketing efforts throughout the year. Understanding these trends can help in optimizing listing performance in terms of pricing and occupancy."
   ]
  },
  {
   "cell_type": "markdown",
   "metadata": {},
   "source": [
    "# Geospatial Analysis"
   ]
  },
  {
   "cell_type": "code",
   "execution_count": 82,
   "metadata": {},
   "outputs": [
    {
     "data": {
      "text/plain": [
       "'/mnt/data/airbnb_heatmap.html'"
      ]
     },
     "execution_count": 82,
     "metadata": {},
     "output_type": "execute_result"
    }
   ],
   "source": [
    "import folium\n",
    "from folium.plugins import HeatMap\n",
    "\n",
    "\n",
    "# Dropping rows with missing or invalid geolocation data\n",
    "geolocation_data.dropna(subset=['latitude', 'longitude'], inplace=True)\n",
    "\n",
    "# Creating a basic map centered around the average latitude and longitude\n",
    "average_latitude = geolocation_data['latitude'].mean()\n",
    "average_longitude = geolocation_data['longitude'].mean()\n",
    "airbnb_map = folium.Map(location=[average_latitude, average_longitude], zoom_start=10)\n",
    "\n",
    "# Adding a heatmap layer\n",
    "heat_data = [[row['latitude'], row['longitude']] for index, row in geolocation_data.iterrows()]\n",
    "HeatMap(heat_data).add_to(airbnb_map)\n",
    "\n",
    "# Displaying the map\n",
    "airbnb_map.save(\"/Users/ymadigital/Downloads/Airbnb Market Analysis & Real Estate Sales Data/airbnb_heatmap.html\")\n",
    "\"/mnt/data/airbnb_heatmap.html\""
   ]
  },
  {
   "cell_type": "markdown",
   "metadata": {},
   "source": [
    "# Outlier Detection"
   ]
  },
  {
   "cell_type": "code",
   "execution_count": 83,
   "metadata": {},
   "outputs": [
    {
     "data": {
      "image/png": "[encoded data removed]",
      "text/plain": [
       "<Figure size 1500x500 with 3 Axes>"
      ]
     },
     "metadata": {},
     "output_type": "display_data"
    }
   ],
   "source": [
    "# Outlier Detection: Identifying unusual patterns in nightly rates, occupancy rates, and length of stay\n",
    "plt.figure(figsize=(15, 5))\n",
    "\n",
    "# Box plot for Nightly Rates\n",
    "plt.subplot(1, 3, 1)\n",
    "sns.boxplot(y=market_analysis_combined['nightly rate'])\n",
    "plt.title('Box Plot of Nightly Rates')\n",
    "\n",
    "# Box plot for Occupancy Rates\n",
    "plt.subplot(1, 3, 2)\n",
    "sns.boxplot(y=market_analysis_combined['occupancy'])\n",
    "plt.title('Box Plot of Occupancy Rates')\n",
    "\n",
    "# Box plot for Length of Stay\n",
    "plt.subplot(1, 3, 3)\n",
    "sns.boxplot(y=market_analysis_combined['length stay'])\n",
    "plt.title('Box Plot of Length of Stay')\n",
    "\n",
    "plt.tight_layout()\n",
    "plt.show()"
   ]
  },
  {
   "cell_type": "markdown",
   "metadata": {},
   "source": [
    "# Competitive Analysis"
   ]
  },
  {
   "cell_type": "markdown",
   "metadata": {},
   "source": [
    "### Competitive Analysis: Airbnb vs. Traditional Hotels\n",
    "\n",
    "1. Pricing:\n",
    "\n",
    "* - **Airbnb:** The pricing for Airbnb properties can vary significantly based on location, property type, and amenities. Our analysis shows average nightly rates ranging from around $370 to $460, depending on the host type and location.\n",
    "\n",
    "* - **Hotels:** Hotel pricing tends to be more standardized, with less variation within a specific category or brand. Prices can be influenced by brand, location, and star rating.\n",
    "\n",
    "**Comparison:** Airbnb often offers more diverse pricing options, catering to a wider range of budgets. Hotels may offer more predictable pricing structures."
   ]
  },
  {
   "cell_type": "markdown",
   "metadata": {},
   "source": [
    "\n",
    "2. Location:\n",
    "\n",
    "* - **Airbnb:** Airbnb properties are widely distributed, often including residential areas not typically served by hotels. This provides a diverse range of location options for travelers.\n",
    "\n",
    "* - **Hotels:** Hotels are usually concentrated in commercial or tourist-heavy areas. They are often located near major attractions, business centers, or transportation hubs.\n",
    "\n",
    "**Comparison:** Airbnb offers more unique and localized experiences in varied locations, while hotels tend to focus on convenience and proximity to key areas."
   ]
  },
  {
   "cell_type": "markdown",
   "metadata": {},
   "source": [
    "\n",
    "3. Amenities:\n",
    "\n",
    "* - **Airbnb:** Amenities in Airbnb properties can be highly variable, ranging from basic to luxury. Unique amenities like kitchens, hot tubs, and personal touches are common.\n",
    "\n",
    "* - **Hotels:** Standardized amenities like housekeeping, room service, and on-site facilities (e.g., gyms, pools). Consistency is a key feature.\n",
    "\n",
    "**Comparison:** Airbnb provides a more personalized and home-like experience, while hotels offer consistent and predictable services."
   ]
  },
  {
   "cell_type": "markdown",
   "metadata": {},
   "source": [
    "\n",
    "4. Unique Offerings of Airbnb:\n",
    "\n",
    "*  Personalized Experience: Airbnb properties often provide a more authentic, personalized experience, with unique homes and personal touches.\n",
    "\n",
    "* Variety of Property Types: From shared rooms to entire homes, Airbnb offers a wide range of property types to suit different needs.\n",
    "\n",
    "* Local Experience: Many Airbnb hosts provide local tips and recommendations, enhancing the travel experience."
   ]
  },
  {
   "cell_type": "markdown",
   "metadata": {},
   "source": [
    "### Analysis of Customer Demographics and Preferences\n",
    "\n",
    "1. Preferences in Terms of Property Types:\n",
    "\n",
    "* Property Types: Our earlier analysis showed that professional hosts (indicating potentially larger or more upscale properties) have the most listings, but single owners and those with 2-5 units have higher occupancy rates. This suggests a preference for smaller, more personalized properties.\n",
    "\n",
    "* Amenities: Amenities like hot tubs are quite popular, as indicated by their prevalence in the listings. This points to a preference for properties with unique or luxury features.\n",
    "\n",
    "2. Preferences in Terms of Locations:\n",
    "\n",
    "* Based on the distribution of listings, guests prefer a variety of locations. Cities like Joshua Tree and Yucca Valley, which have seen significant growth in listings, might indicate a growing preference for more unique, off-the-beaten-path destinations.\n",
    "\n",
    "3. General Market Knowledge on Airbnb User Demographics:\n",
    "\n",
    "* Age Group: Airbnb users tend to be younger, with a significant portion in the millennial age group. This demographic often seeks unique and authentic travel experiences.\n",
    "\n",
    "* Travel Purpose: Users include both leisure and business travelers, with leisure travelers often looking for unique stays that offer a local experience.\n",
    "\n",
    "* Income Levels: Airbnb attracts a wide range of income levels, often offering more affordable options compared to traditional hotels."
   ]
  }
 ],
 "metadata": {
  "kernelspec": {
   "display_name": "Python 3",
   "language": "python",
   "name": "python3"
  },
  "language_info": {
   "codemirror_mode": {
    "name": "ipython",
    "version": 3
   },
   "file_extension": ".py",
   "mimetype": "text/x-python",
   "name": "python",
   "nbconvert_exporter": "python",
   "pygments_lexer": "ipython3",
   "version": "3.11.5"
  }
 },
 "nbformat": 4,
 "nbformat_minor": 2
}
